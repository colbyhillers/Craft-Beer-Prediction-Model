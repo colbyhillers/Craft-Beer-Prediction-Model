{
  "cells": [
    {
      "cell_type": "markdown",
      "metadata": {
        "deletable": false,
        "editable": false,
        "nbgrader": {
          "cell_type": "markdown",
          "checksum": "bca080b6a75d3c2ab92a041690185793",
          "grade": false,
          "grade_id": "cell-8e163850806ee57f",
          "locked": true,
          "schema_version": 3,
          "solution": false
        },
        "id": "tgAKiPB1jV6V"
      },
      "source": [
        "# Machine Learning with Craft Beer\n",
        "\n"
      ]
    },
    {
      "cell_type": "markdown",
      "metadata": {
        "deletable": false,
        "editable": false,
        "nbgrader": {
          "cell_type": "markdown",
          "checksum": "c7522e9ec3d6f8af77c7096cec0e70f0",
          "grade": false,
          "grade_id": "cell-fdf5a52cfdd2a118",
          "locked": true,
          "schema_version": 3,
          "solution": false
        },
        "id": "J_P9-e1LjV6c"
      },
      "source": [
        "## Data, Wrangling, & EDA"
      ]
    },
    {
      "cell_type": "code",
      "execution_count": 6,
      "metadata": {
        "deletable": false,
        "nbgrader": {
          "cell_type": "code",
          "checksum": "b815e40064b448cc28307957c386b3ce",
          "grade": false,
          "grade_id": "cell-1fa5c018cbfab919",
          "locked": false,
          "schema_version": 3,
          "solution": true
        },
        "id": "Xj2YFcCxjV6h"
      },
      "outputs": [],
      "source": [
        "import pandas as pd\n",
        "import numpy as np\n",
        "from sklearn.svm import SVC\n",
        "from sklearn.metrics import confusion_matrix, classification_report, precision_recall_fscore_support\n",
        "import matplotlib.pyplot as plt"
      ]
    },
    {
      "cell_type": "code",
      "execution_count": 7,
      "metadata": {
        "deletable": false,
        "nbgrader": {
          "cell_type": "code",
          "checksum": "4152e51aad276bcf6fe7d71d298bc78d",
          "grade": false,
          "grade_id": "cell-d10db4e6f0c02976",
          "locked": false,
          "schema_version": 3,
          "solution": true
        },
        "id": "w60q5s8ujV6m"
      },
      "outputs": [],
      "source": [
        "breweries = pd.read_csv('breweries.csv')\n",
        "beers = pd.read_csv('beers.csv')"
      ]
    },
    {
      "cell_type": "code",
      "execution_count": 8,
      "metadata": {
        "colab": {
          "base_uri": "https://localhost:8080/",
          "height": 206
        },
        "id": "a6fXxE4ojV6q",
        "outputId": "e0835c59-b0a3-49be-aa4b-c1afad6590f7"
      },
      "outputs": [
        {
          "output_type": "execute_result",
          "data": {
            "text/html": [
              "<div>\n",
              "<style scoped>\n",
              "    .dataframe tbody tr th:only-of-type {\n",
              "        vertical-align: middle;\n",
              "    }\n",
              "\n",
              "    .dataframe tbody tr th {\n",
              "        vertical-align: top;\n",
              "    }\n",
              "\n",
              "    .dataframe thead th {\n",
              "        text-align: right;\n",
              "    }\n",
              "</style>\n",
              "<table border=\"1\" class=\"dataframe\">\n",
              "  <thead>\n",
              "    <tr style=\"text-align: right;\">\n",
              "      <th></th>\n",
              "      <th>Unnamed: 0</th>\n",
              "      <th>name</th>\n",
              "      <th>city</th>\n",
              "      <th>state</th>\n",
              "    </tr>\n",
              "  </thead>\n",
              "  <tbody>\n",
              "    <tr>\n",
              "      <th>0</th>\n",
              "      <td>0</td>\n",
              "      <td>NorthGate Brewing</td>\n",
              "      <td>Minneapolis</td>\n",
              "      <td>MN</td>\n",
              "    </tr>\n",
              "    <tr>\n",
              "      <th>1</th>\n",
              "      <td>1</td>\n",
              "      <td>Against the Grain Brewery</td>\n",
              "      <td>Louisville</td>\n",
              "      <td>KY</td>\n",
              "    </tr>\n",
              "    <tr>\n",
              "      <th>2</th>\n",
              "      <td>2</td>\n",
              "      <td>Jack's Abby Craft Lagers</td>\n",
              "      <td>Framingham</td>\n",
              "      <td>MA</td>\n",
              "    </tr>\n",
              "    <tr>\n",
              "      <th>3</th>\n",
              "      <td>3</td>\n",
              "      <td>Mike Hess Brewing Company</td>\n",
              "      <td>San Diego</td>\n",
              "      <td>CA</td>\n",
              "    </tr>\n",
              "    <tr>\n",
              "      <th>4</th>\n",
              "      <td>4</td>\n",
              "      <td>Fort Point Beer Company</td>\n",
              "      <td>San Francisco</td>\n",
              "      <td>CA</td>\n",
              "    </tr>\n",
              "  </tbody>\n",
              "</table>\n",
              "</div>"
            ],
            "text/plain": [
              "   Unnamed: 0                       name           city state\n",
              "0           0         NorthGate Brewing     Minneapolis    MN\n",
              "1           1  Against the Grain Brewery     Louisville    KY\n",
              "2           2   Jack's Abby Craft Lagers     Framingham    MA\n",
              "3           3  Mike Hess Brewing Company      San Diego    CA\n",
              "4           4    Fort Point Beer Company  San Francisco    CA"
            ]
          },
          "metadata": {},
          "execution_count": 8
        }
      ],
      "source": [
        "breweries.head()"
      ]
    },
    {
      "cell_type": "code",
      "execution_count": 9,
      "metadata": {
        "colab": {
          "base_uri": "https://localhost:8080/",
          "height": 206
        },
        "id": "jBF48A7NjV6v",
        "outputId": "7fb80acf-acaf-40d8-ade4-2b4c52e6007d"
      },
      "outputs": [
        {
          "output_type": "execute_result",
          "data": {
            "text/html": [
              "<div>\n",
              "<style scoped>\n",
              "    .dataframe tbody tr th:only-of-type {\n",
              "        vertical-align: middle;\n",
              "    }\n",
              "\n",
              "    .dataframe tbody tr th {\n",
              "        vertical-align: top;\n",
              "    }\n",
              "\n",
              "    .dataframe thead th {\n",
              "        text-align: right;\n",
              "    }\n",
              "</style>\n",
              "<table border=\"1\" class=\"dataframe\">\n",
              "  <thead>\n",
              "    <tr style=\"text-align: right;\">\n",
              "      <th></th>\n",
              "      <th>Unnamed: 0</th>\n",
              "      <th>abv</th>\n",
              "      <th>ibu</th>\n",
              "      <th>id</th>\n",
              "      <th>name</th>\n",
              "      <th>style</th>\n",
              "      <th>brewery_id</th>\n",
              "      <th>ounces</th>\n",
              "    </tr>\n",
              "  </thead>\n",
              "  <tbody>\n",
              "    <tr>\n",
              "      <th>0</th>\n",
              "      <td>0</td>\n",
              "      <td>0.050</td>\n",
              "      <td>NaN</td>\n",
              "      <td>1436</td>\n",
              "      <td>Pub Beer</td>\n",
              "      <td>American Pale Lager</td>\n",
              "      <td>408</td>\n",
              "      <td>12.0</td>\n",
              "    </tr>\n",
              "    <tr>\n",
              "      <th>1</th>\n",
              "      <td>1</td>\n",
              "      <td>0.066</td>\n",
              "      <td>NaN</td>\n",
              "      <td>2265</td>\n",
              "      <td>Devil's Cup</td>\n",
              "      <td>American Pale Ale (APA)</td>\n",
              "      <td>177</td>\n",
              "      <td>12.0</td>\n",
              "    </tr>\n",
              "    <tr>\n",
              "      <th>2</th>\n",
              "      <td>2</td>\n",
              "      <td>0.071</td>\n",
              "      <td>NaN</td>\n",
              "      <td>2264</td>\n",
              "      <td>Rise of the Phoenix</td>\n",
              "      <td>American IPA</td>\n",
              "      <td>177</td>\n",
              "      <td>12.0</td>\n",
              "    </tr>\n",
              "    <tr>\n",
              "      <th>3</th>\n",
              "      <td>3</td>\n",
              "      <td>0.090</td>\n",
              "      <td>NaN</td>\n",
              "      <td>2263</td>\n",
              "      <td>Sinister</td>\n",
              "      <td>American Double / Imperial IPA</td>\n",
              "      <td>177</td>\n",
              "      <td>12.0</td>\n",
              "    </tr>\n",
              "    <tr>\n",
              "      <th>4</th>\n",
              "      <td>4</td>\n",
              "      <td>0.075</td>\n",
              "      <td>NaN</td>\n",
              "      <td>2262</td>\n",
              "      <td>Sex and Candy</td>\n",
              "      <td>American IPA</td>\n",
              "      <td>177</td>\n",
              "      <td>12.0</td>\n",
              "    </tr>\n",
              "  </tbody>\n",
              "</table>\n",
              "</div>"
            ],
            "text/plain": [
              "   Unnamed: 0    abv  ibu  ...                           style brewery_id ounces\n",
              "0           0  0.050  NaN  ...             American Pale Lager        408   12.0\n",
              "1           1  0.066  NaN  ...         American Pale Ale (APA)        177   12.0\n",
              "2           2  0.071  NaN  ...                    American IPA        177   12.0\n",
              "3           3  0.090  NaN  ...  American Double / Imperial IPA        177   12.0\n",
              "4           4  0.075  NaN  ...                    American IPA        177   12.0\n",
              "\n",
              "[5 rows x 8 columns]"
            ]
          },
          "metadata": {},
          "execution_count": 9
        }
      ],
      "source": [
        "beers.head()"
      ]
    },
    {
      "cell_type": "markdown",
      "metadata": {
        "deletable": false,
        "editable": false,
        "nbgrader": {
          "cell_type": "markdown",
          "checksum": "2b754c6472086fa83a1f9d73259b6bd2",
          "grade": false,
          "grade_id": "cell-22e091210d7e94cf",
          "locked": true,
          "schema_version": 3,
          "solution": false
        },
        "id": "5AxOGvKfjV6w"
      },
      "source": [
        "To get a quick handle on what's going on these data, we're going to print out the number of missing values in each variable of the variables in the `beers` dataset ."
      ]
    },
    {
      "cell_type": "code",
      "execution_count": 10,
      "metadata": {
        "deletable": false,
        "nbgrader": {
          "cell_type": "code",
          "checksum": "605e7b892f479f56d141863209d98f4c",
          "grade": false,
          "grade_id": "cell-d97505cb97ec42e8",
          "locked": false,
          "schema_version": 3,
          "solution": true
        },
        "colab": {
          "base_uri": "https://localhost:8080/"
        },
        "id": "2cO-oe_GjV6x",
        "outputId": "1a3a1f60-ee7e-4f8e-e407-f20a96b36ed3"
      },
      "outputs": [
        {
          "output_type": "execute_result",
          "data": {
            "text/plain": [
              "Unnamed: 0       0\n",
              "abv             62\n",
              "ibu           1005\n",
              "id               0\n",
              "name             0\n",
              "style            5\n",
              "brewery_id       0\n",
              "ounces           0\n",
              "dtype: int64"
            ]
          },
          "metadata": {},
          "execution_count": 10
        }
      ],
      "source": [
        "beers.isna().sum()"
      ]
    },
    {
      "cell_type": "markdown",
      "metadata": {
        "deletable": false,
        "editable": false,
        "nbgrader": {
          "cell_type": "markdown",
          "checksum": "1c6c787887b7798bd8eb0e6955d1de2d",
          "grade": false,
          "grade_id": "cell-426ea7870467bb28",
          "locked": true,
          "schema_version": 3,
          "solution": false
        },
        "id": "bv3Vj9HWjV6y"
      },
      "source": [
        "We want to try to predict the `style` of beer from its alcohol by volume (`abv`) and its international bitterness unites (`ibu`). To do this, we need to remove any beers from our `beers` dataset where data are missing for any of these three values. "
      ]
    },
    {
      "cell_type": "code",
      "execution_count": 11,
      "metadata": {
        "deletable": false,
        "nbgrader": {
          "cell_type": "code",
          "checksum": "77a8dc0e06680bf004ab0e905f6c51fb",
          "grade": false,
          "grade_id": "cell-388ac707168e1d78",
          "locked": false,
          "schema_version": 3,
          "solution": true
        },
        "id": "CkzAlVECjV6z"
      },
      "outputs": [],
      "source": [
        "beers = beers.dropna(subset=['style', 'abv', 'ibu'])"
      ]
    },
    {
      "cell_type": "markdown",
      "metadata": {
        "deletable": false,
        "editable": false,
        "nbgrader": {
          "cell_type": "markdown",
          "checksum": "07f352c73d0a0080d77898d5817231e8",
          "grade": false,
          "grade_id": "cell-fa4c8beae4ab7988",
          "locked": true,
          "schema_version": 3,
          "solution": false
        },
        "id": "xWTcIZUYjV63"
      },
      "source": [
        "Using the `beers` dataset we are not going to merge `beers` and `breweries` together using a left join."
      ]
    },
    {
      "cell_type": "code",
      "execution_count": 12,
      "metadata": {
        "deletable": false,
        "nbgrader": {
          "cell_type": "code",
          "checksum": "afb0dc1a3768ea953f0cd4f17985f9a4",
          "grade": false,
          "grade_id": "cell-3f94ee193183fa7d",
          "locked": false,
          "schema_version": 3,
          "solution": true
        },
        "colab": {
          "base_uri": "https://localhost:8080/",
          "height": 476
        },
        "id": "dDmpjfDejV65",
        "outputId": "6d1fed30-0cda-4abb-bce3-42acc94938cd"
      },
      "outputs": [
        {
          "output_type": "execute_result",
          "data": {
            "text/html": [
              "<div>\n",
              "<style scoped>\n",
              "    .dataframe tbody tr th:only-of-type {\n",
              "        vertical-align: middle;\n",
              "    }\n",
              "\n",
              "    .dataframe tbody tr th {\n",
              "        vertical-align: top;\n",
              "    }\n",
              "\n",
              "    .dataframe thead th {\n",
              "        text-align: right;\n",
              "    }\n",
              "</style>\n",
              "<table border=\"1\" class=\"dataframe\">\n",
              "  <thead>\n",
              "    <tr style=\"text-align: right;\">\n",
              "      <th></th>\n",
              "      <th>Unnamed: 0</th>\n",
              "      <th>abv</th>\n",
              "      <th>ibu</th>\n",
              "      <th>id</th>\n",
              "      <th>name</th>\n",
              "      <th>style</th>\n",
              "      <th>brewery_id</th>\n",
              "      <th>ounces</th>\n",
              "      <th>city</th>\n",
              "      <th>state</th>\n",
              "    </tr>\n",
              "  </thead>\n",
              "  <tbody>\n",
              "    <tr>\n",
              "      <th>0</th>\n",
              "      <td>14</td>\n",
              "      <td>0.061</td>\n",
              "      <td>60.0</td>\n",
              "      <td>1979</td>\n",
              "      <td>Bitter Bitch</td>\n",
              "      <td>American Pale Ale (APA)</td>\n",
              "      <td>177</td>\n",
              "      <td>12.0</td>\n",
              "      <td>NaN</td>\n",
              "      <td>NaN</td>\n",
              "    </tr>\n",
              "    <tr>\n",
              "      <th>1</th>\n",
              "      <td>21</td>\n",
              "      <td>0.099</td>\n",
              "      <td>92.0</td>\n",
              "      <td>1036</td>\n",
              "      <td>Lower De Boom</td>\n",
              "      <td>American Barleywine</td>\n",
              "      <td>368</td>\n",
              "      <td>8.4</td>\n",
              "      <td>NaN</td>\n",
              "      <td>NaN</td>\n",
              "    </tr>\n",
              "    <tr>\n",
              "      <th>2</th>\n",
              "      <td>22</td>\n",
              "      <td>0.079</td>\n",
              "      <td>45.0</td>\n",
              "      <td>1024</td>\n",
              "      <td>Fireside Chat</td>\n",
              "      <td>Winter Warmer</td>\n",
              "      <td>368</td>\n",
              "      <td>12.0</td>\n",
              "      <td>NaN</td>\n",
              "      <td>NaN</td>\n",
              "    </tr>\n",
              "    <tr>\n",
              "      <th>3</th>\n",
              "      <td>24</td>\n",
              "      <td>0.044</td>\n",
              "      <td>42.0</td>\n",
              "      <td>876</td>\n",
              "      <td>Bitter American</td>\n",
              "      <td>American Pale Ale (APA)</td>\n",
              "      <td>368</td>\n",
              "      <td>12.0</td>\n",
              "      <td>NaN</td>\n",
              "      <td>NaN</td>\n",
              "    </tr>\n",
              "    <tr>\n",
              "      <th>4</th>\n",
              "      <td>25</td>\n",
              "      <td>0.049</td>\n",
              "      <td>17.0</td>\n",
              "      <td>802</td>\n",
              "      <td>Hell or High Watermelon Wheat (2009)</td>\n",
              "      <td>Fruit / Vegetable Beer</td>\n",
              "      <td>368</td>\n",
              "      <td>12.0</td>\n",
              "      <td>NaN</td>\n",
              "      <td>NaN</td>\n",
              "    </tr>\n",
              "    <tr>\n",
              "      <th>...</th>\n",
              "      <td>...</td>\n",
              "      <td>...</td>\n",
              "      <td>...</td>\n",
              "      <td>...</td>\n",
              "      <td>...</td>\n",
              "      <td>...</td>\n",
              "      <td>...</td>\n",
              "      <td>...</td>\n",
              "      <td>...</td>\n",
              "      <td>...</td>\n",
              "    </tr>\n",
              "    <tr>\n",
              "      <th>1398</th>\n",
              "      <td>2398</td>\n",
              "      <td>0.077</td>\n",
              "      <td>30.0</td>\n",
              "      <td>1513</td>\n",
              "      <td>Lights Out Vanilla Cream Extra Stout</td>\n",
              "      <td>American Double / Imperial IPA</td>\n",
              "      <td>199</td>\n",
              "      <td>12.0</td>\n",
              "      <td>NaN</td>\n",
              "      <td>NaN</td>\n",
              "    </tr>\n",
              "    <tr>\n",
              "      <th>1399</th>\n",
              "      <td>2399</td>\n",
              "      <td>0.069</td>\n",
              "      <td>69.0</td>\n",
              "      <td>1512</td>\n",
              "      <td>Worthy IPA (2013)</td>\n",
              "      <td>American IPA</td>\n",
              "      <td>199</td>\n",
              "      <td>12.0</td>\n",
              "      <td>NaN</td>\n",
              "      <td>NaN</td>\n",
              "    </tr>\n",
              "    <tr>\n",
              "      <th>1400</th>\n",
              "      <td>2400</td>\n",
              "      <td>0.060</td>\n",
              "      <td>50.0</td>\n",
              "      <td>1511</td>\n",
              "      <td>Worthy Pale</td>\n",
              "      <td>American Pale Ale (APA)</td>\n",
              "      <td>199</td>\n",
              "      <td>12.0</td>\n",
              "      <td>NaN</td>\n",
              "      <td>NaN</td>\n",
              "    </tr>\n",
              "    <tr>\n",
              "      <th>1401</th>\n",
              "      <td>2405</td>\n",
              "      <td>0.067</td>\n",
              "      <td>45.0</td>\n",
              "      <td>928</td>\n",
              "      <td>Belgorado</td>\n",
              "      <td>Belgian IPA</td>\n",
              "      <td>424</td>\n",
              "      <td>12.0</td>\n",
              "      <td>NaN</td>\n",
              "      <td>NaN</td>\n",
              "    </tr>\n",
              "    <tr>\n",
              "      <th>1402</th>\n",
              "      <td>2408</td>\n",
              "      <td>0.055</td>\n",
              "      <td>40.0</td>\n",
              "      <td>145</td>\n",
              "      <td>Silverback Pale Ale</td>\n",
              "      <td>American Pale Ale (APA)</td>\n",
              "      <td>424</td>\n",
              "      <td>12.0</td>\n",
              "      <td>NaN</td>\n",
              "      <td>NaN</td>\n",
              "    </tr>\n",
              "  </tbody>\n",
              "</table>\n",
              "<p>1403 rows × 10 columns</p>\n",
              "</div>"
            ],
            "text/plain": [
              "      Unnamed: 0    abv   ibu    id  ... brewery_id ounces  city  state\n",
              "0             14  0.061  60.0  1979  ...        177   12.0   NaN    NaN\n",
              "1             21  0.099  92.0  1036  ...        368    8.4   NaN    NaN\n",
              "2             22  0.079  45.0  1024  ...        368   12.0   NaN    NaN\n",
              "3             24  0.044  42.0   876  ...        368   12.0   NaN    NaN\n",
              "4             25  0.049  17.0   802  ...        368   12.0   NaN    NaN\n",
              "...          ...    ...   ...   ...  ...        ...    ...   ...    ...\n",
              "1398        2398  0.077  30.0  1513  ...        199   12.0   NaN    NaN\n",
              "1399        2399  0.069  69.0  1512  ...        199   12.0   NaN    NaN\n",
              "1400        2400  0.060  50.0  1511  ...        199   12.0   NaN    NaN\n",
              "1401        2405  0.067  45.0   928  ...        424   12.0   NaN    NaN\n",
              "1402        2408  0.055  40.0   145  ...        424   12.0   NaN    NaN\n",
              "\n",
              "[1403 rows x 10 columns]"
            ]
          },
          "metadata": {},
          "execution_count": 12
        }
      ],
      "source": [
        "beer_df = pd.merge(beers, breweries, how='left')\n",
        "beer_df"
      ]
    },
    {
      "cell_type": "code",
      "execution_count": 13,
      "metadata": {
        "deletable": false,
        "nbgrader": {
          "cell_type": "code",
          "checksum": "2ff5e298a144bca18698aaa766b60b06",
          "grade": false,
          "grade_id": "cell-910a32a77c997791",
          "locked": false,
          "schema_version": 3,
          "solution": true
        },
        "colab": {
          "base_uri": "https://localhost:8080/",
          "height": 300
        },
        "id": "irzqGR1_jV69",
        "outputId": "0a5e9f85-db48-4626-b738-6e21c7bffc0a"
      },
      "outputs": [
        {
          "output_type": "execute_result",
          "data": {
            "text/html": [
              "<div>\n",
              "<style scoped>\n",
              "    .dataframe tbody tr th:only-of-type {\n",
              "        vertical-align: middle;\n",
              "    }\n",
              "\n",
              "    .dataframe tbody tr th {\n",
              "        vertical-align: top;\n",
              "    }\n",
              "\n",
              "    .dataframe thead th {\n",
              "        text-align: right;\n",
              "    }\n",
              "</style>\n",
              "<table border=\"1\" class=\"dataframe\">\n",
              "  <thead>\n",
              "    <tr style=\"text-align: right;\">\n",
              "      <th></th>\n",
              "      <th>Unnamed: 0</th>\n",
              "      <th>abv</th>\n",
              "      <th>ibu</th>\n",
              "      <th>id</th>\n",
              "      <th>brewery_id</th>\n",
              "      <th>ounces</th>\n",
              "    </tr>\n",
              "  </thead>\n",
              "  <tbody>\n",
              "    <tr>\n",
              "      <th>count</th>\n",
              "      <td>1403.000000</td>\n",
              "      <td>1403.000000</td>\n",
              "      <td>1403.000000</td>\n",
              "      <td>1403.000000</td>\n",
              "      <td>1403.000000</td>\n",
              "      <td>1403.000000</td>\n",
              "    </tr>\n",
              "    <tr>\n",
              "      <th>mean</th>\n",
              "      <td>1241.128297</td>\n",
              "      <td>0.059919</td>\n",
              "      <td>42.739843</td>\n",
              "      <td>1413.888810</td>\n",
              "      <td>223.375624</td>\n",
              "      <td>13.510264</td>\n",
              "    </tr>\n",
              "    <tr>\n",
              "      <th>std</th>\n",
              "      <td>691.675612</td>\n",
              "      <td>0.013585</td>\n",
              "      <td>25.962692</td>\n",
              "      <td>757.572191</td>\n",
              "      <td>150.387510</td>\n",
              "      <td>2.254112</td>\n",
              "    </tr>\n",
              "    <tr>\n",
              "      <th>min</th>\n",
              "      <td>14.000000</td>\n",
              "      <td>0.027000</td>\n",
              "      <td>4.000000</td>\n",
              "      <td>1.000000</td>\n",
              "      <td>0.000000</td>\n",
              "      <td>8.400000</td>\n",
              "    </tr>\n",
              "    <tr>\n",
              "      <th>25%</th>\n",
              "      <td>681.500000</td>\n",
              "      <td>0.050000</td>\n",
              "      <td>21.000000</td>\n",
              "      <td>771.000000</td>\n",
              "      <td>95.500000</td>\n",
              "      <td>12.000000</td>\n",
              "    </tr>\n",
              "    <tr>\n",
              "      <th>50%</th>\n",
              "      <td>1228.000000</td>\n",
              "      <td>0.057000</td>\n",
              "      <td>35.000000</td>\n",
              "      <td>1435.000000</td>\n",
              "      <td>198.000000</td>\n",
              "      <td>12.000000</td>\n",
              "    </tr>\n",
              "    <tr>\n",
              "      <th>75%</th>\n",
              "      <td>1864.500000</td>\n",
              "      <td>0.068000</td>\n",
              "      <td>64.000000</td>\n",
              "      <td>2068.500000</td>\n",
              "      <td>350.000000</td>\n",
              "      <td>16.000000</td>\n",
              "    </tr>\n",
              "    <tr>\n",
              "      <th>max</th>\n",
              "      <td>2408.000000</td>\n",
              "      <td>0.125000</td>\n",
              "      <td>138.000000</td>\n",
              "      <td>2692.000000</td>\n",
              "      <td>546.000000</td>\n",
              "      <td>32.000000</td>\n",
              "    </tr>\n",
              "  </tbody>\n",
              "</table>\n",
              "</div>"
            ],
            "text/plain": [
              "        Unnamed: 0          abv  ...   brewery_id       ounces\n",
              "count  1403.000000  1403.000000  ...  1403.000000  1403.000000\n",
              "mean   1241.128297     0.059919  ...   223.375624    13.510264\n",
              "std     691.675612     0.013585  ...   150.387510     2.254112\n",
              "min      14.000000     0.027000  ...     0.000000     8.400000\n",
              "25%     681.500000     0.050000  ...    95.500000    12.000000\n",
              "50%    1228.000000     0.057000  ...   198.000000    12.000000\n",
              "75%    1864.500000     0.068000  ...   350.000000    16.000000\n",
              "max    2408.000000     0.125000  ...   546.000000    32.000000\n",
              "\n",
              "[8 rows x 6 columns]"
            ]
          },
          "metadata": {},
          "execution_count": 13
        }
      ],
      "source": [
        "beer_df.describe()"
      ]
    },
    {
      "cell_type": "markdown",
      "metadata": {
        "deletable": false,
        "editable": false,
        "nbgrader": {
          "cell_type": "markdown",
          "checksum": "656c350170266eafe2809feb49e2245c",
          "grade": false,
          "grade_id": "cell-34e34f4882c37e4b",
          "locked": true,
          "schema_version": 3,
          "solution": false
        },
        "id": "XkU25lDWjV6_"
      },
      "source": [
        "Now we're going to see how many different styles of beer we have in our datset."
      ]
    },
    {
      "cell_type": "code",
      "execution_count": 14,
      "metadata": {
        "deletable": false,
        "nbgrader": {
          "cell_type": "code",
          "checksum": "bb6c93f8a104aadd37085eaa89cd66f3",
          "grade": false,
          "grade_id": "cell-f6596e92382da73f",
          "locked": false,
          "schema_version": 3,
          "solution": true
        },
        "colab": {
          "base_uri": "https://localhost:8080/"
        },
        "id": "iABIUT5ZjV7A",
        "outputId": "a5a6800e-0004-41ab-e28f-b7bcac9a155e"
      },
      "outputs": [
        {
          "output_type": "execute_result",
          "data": {
            "text/plain": [
              "American IPA                          301\n",
              "American Pale Ale (APA)               153\n",
              "American Amber / Red Ale               77\n",
              "American Double / Imperial IPA         75\n",
              "American Blonde Ale                    61\n",
              "                                     ... \n",
              "Quadrupel (Quad)                        1\n",
              "Flanders Oud Bruin                      1\n",
              "Grisette                                1\n",
              "Belgian Strong Dark Ale                 1\n",
              "American Double / Imperial Pilsner      1\n",
              "Name: style, Length: 90, dtype: int64"
            ]
          },
          "metadata": {},
          "execution_count": 14
        }
      ],
      "source": [
        "beer_df['style'].value_counts()"
      ]
    },
    {
      "cell_type": "markdown",
      "metadata": {
        "deletable": false,
        "editable": false,
        "nbgrader": {
          "cell_type": "markdown",
          "checksum": "4b6d050bd28ef500b84afef9fb138ade",
          "grade": false,
          "grade_id": "cell-7d90c30fa7af6516",
          "locked": true,
          "schema_version": 3,
          "solution": false
        },
        "id": "QXVxmmrOjV7B"
      },
      "source": [
        "Due to the variety of beers, it'll be more simplistic to predict the four most common `style`s of beer. So we're going to filter the 4 most common beers and remove the rest from the data set."
      ]
    },
    {
      "cell_type": "code",
      "execution_count": 15,
      "metadata": {
        "deletable": false,
        "nbgrader": {
          "cell_type": "code",
          "checksum": "eb8b649dd11f4c45717162b787d30ae6",
          "grade": false,
          "grade_id": "cell-48c99ba398ca62d3",
          "locked": false,
          "schema_version": 3,
          "solution": true
        },
        "id": "h-DQ9PeqjV7C"
      },
      "outputs": [],
      "source": [
        "beer_df = beer_df.loc[beer_df['style'].isin(['American IPA', 'American Pale Ale (APA)', 'American Amber / Red Ale', 'American Double / Imperial IPA'])]"
      ]
    },
    {
      "cell_type": "markdown",
      "metadata": {
        "deletable": false,
        "editable": false,
        "nbgrader": {
          "cell_type": "markdown",
          "checksum": "032f48760f03c1b8a94614909b4bb7b5",
          "grade": false,
          "grade_id": "cell-3ab868e2e0d255fe",
          "locked": true,
          "schema_version": 3,
          "solution": false
        },
        "id": "iKz_AqK2jV7D"
      },
      "source": [
        "## Prediction Model"
      ]
    },
    {
      "cell_type": "markdown",
      "metadata": {
        "deletable": false,
        "editable": false,
        "nbgrader": {
          "cell_type": "markdown",
          "checksum": "b028fcbcb89297879b7982ab339b2edb",
          "grade": false,
          "grade_id": "cell-b12ae6d6f7db673a",
          "locked": true,
          "schema_version": 3,
          "solution": false
        },
        "id": "e9lIu8gzjV7E"
      },
      "source": [
        "Now we're going to begin to build our prediction model. To do so, we are going to make variable `num_training` that includes the number of samples that corresponds to 80% of our total samples in our `beer_df` dataset. Also, we are going to create a variable `num_testing` which includes the number corresponding to 20% of our total samples."
      ]
    },
    {
      "cell_type": "code",
      "execution_count": 16,
      "metadata": {
        "deletable": false,
        "nbgrader": {
          "cell_type": "code",
          "checksum": "5b8acbbc26c81a0128b70291421e481c",
          "grade": false,
          "grade_id": "cell-f165209e70ea6449",
          "locked": false,
          "schema_version": 3,
          "solution": true
        },
        "id": "G6L9atmPjV7E"
      },
      "outputs": [],
      "source": [
        "num_training = int(len(beer_df)*0.8)\n",
        "num_testing = len(beer_df) - num_training"
      ]
    },
    {
      "cell_type": "markdown",
      "metadata": {
        "deletable": false,
        "editable": false,
        "nbgrader": {
          "cell_type": "markdown",
          "checksum": "67c7d0b9167ad61b820326b749401dbf",
          "grade": false,
          "grade_id": "cell-e79d09b67d706714",
          "locked": true,
          "schema_version": 3,
          "solution": false
        },
        "id": "O7hjlKMUjV7G"
      },
      "source": [
        "To model these data, we'll split our data into `beer_X`, which includes the `abv` and `ibu` columns from `beer_df` (predictors). Additionally we'll have the outcome variable stored in the variable `beer_Y`."
      ]
    },
    {
      "cell_type": "code",
      "execution_count": 17,
      "metadata": {
        "deletable": false,
        "nbgrader": {
          "cell_type": "code",
          "checksum": "11f64e8b1c309cdbe295d833527a713c",
          "grade": false,
          "grade_id": "cell-09abd08ce060707e",
          "locked": false,
          "schema_version": 3,
          "solution": true
        },
        "id": "PdulM7MwjV7G"
      },
      "outputs": [],
      "source": [
        "beer_X = beer_df[['abv', 'ibu']]\n",
        "beer_Y = np.array(beer_df['style'])"
      ]
    },
    {
      "cell_type": "markdown",
      "metadata": {
        "deletable": false,
        "editable": false,
        "nbgrader": {
          "cell_type": "markdown",
          "checksum": "bf3f431df5efd0af0add1d4b6d2c00f7",
          "grade": false,
          "grade_id": "cell-3b4ef319727cbb8b",
          "locked": true,
          "schema_version": 3,
          "solution": false
        },
        "id": "hDmY_YyzjV7I"
      },
      "source": [
        "Before running our model, we'll need to split our data into a training and test set."
      ]
    },
    {
      "cell_type": "code",
      "execution_count": 18,
      "metadata": {
        "deletable": false,
        "nbgrader": {
          "cell_type": "code",
          "checksum": "13799013bce30e14fb69ca3097b1edda",
          "grade": false,
          "grade_id": "cell-fd8962674731f8e3",
          "locked": false,
          "schema_version": 3,
          "solution": true
        },
        "id": "-Vx7hX1WjV7J"
      },
      "outputs": [],
      "source": [
        "beer_train_X = beer_X[:num_training]\n",
        "beer_test_X = beer_X[num_training:]\n",
        "beer_train_Y = beer_Y[:num_training]\n",
        "beer_test_Y = beer_Y[num_training:]"
      ]
    },
    {
      "cell_type": "markdown",
      "metadata": {
        "deletable": false,
        "editable": false,
        "nbgrader": {
          "cell_type": "markdown",
          "checksum": "e8ccda306461e953e03f2ff33e68bf7e",
          "grade": false,
          "grade_id": "cell-e6539ca3c26cf51d",
          "locked": true,
          "schema_version": 3,
          "solution": false
        },
        "id": "Mw-ZrBD9jV7K"
      },
      "source": [
        "To train our model, we'll use a linear SVM classifier."
      ]
    },
    {
      "cell_type": "code",
      "execution_count": 19,
      "metadata": {
        "id": "lNvOIoEljV7L"
      },
      "outputs": [],
      "source": [
        "def train_SVM(X, y, kernel='linear'):\n",
        "    clf = SVC(kernel=kernel)\n",
        "    clf.fit(X, y)\n",
        "    \n",
        "    return clf"
      ]
    },
    {
      "cell_type": "markdown",
      "metadata": {
        "deletable": false,
        "editable": false,
        "nbgrader": {
          "cell_type": "markdown",
          "checksum": "c60ca345507c724c8e0f6d253ab2cf3d",
          "grade": false,
          "grade_id": "cell-3be55a85ea1c8548",
          "locked": true,
          "schema_version": 3,
          "solution": false
        },
        "id": "gy_3tZDljV7M"
      },
      "source": [
        "We're going to now train our model and store it in the `beer_clf` variable"
      ]
    },
    {
      "cell_type": "code",
      "execution_count": 20,
      "metadata": {
        "deletable": false,
        "nbgrader": {
          "cell_type": "code",
          "checksum": "29d83d670688d72f56ac16e9fbaf2f21",
          "grade": false,
          "grade_id": "cell-c206bff1f25a305d",
          "locked": false,
          "schema_version": 3,
          "solution": true
        },
        "id": "qgeMZ67MjV7N"
      },
      "outputs": [],
      "source": [
        "beer_clf = train_SVM(beer_train_X, beer_train_Y)"
      ]
    },
    {
      "cell_type": "markdown",
      "metadata": {
        "deletable": false,
        "editable": false,
        "nbgrader": {
          "cell_type": "markdown",
          "checksum": "1faa40189cfc8d5e6e0010fa72d35263",
          "grade": false,
          "grade_id": "cell-beecc192f751ea14",
          "locked": true,
          "schema_version": 3,
          "solution": false
        },
        "id": "OO28vd7-jV7P"
      },
      "source": [
        "Now, we'll generate predictions from our training and test sets of predictors using the `predict` method."
      ]
    },
    {
      "cell_type": "code",
      "execution_count": 21,
      "metadata": {
        "deletable": false,
        "nbgrader": {
          "cell_type": "code",
          "checksum": "66111a02bdebc153ab5612c08f12393e",
          "grade": false,
          "grade_id": "cell-2a2fef981469581b",
          "locked": false,
          "schema_version": 3,
          "solution": true
        },
        "id": "Lr88V5vpjV7Q"
      },
      "outputs": [],
      "source": [
        "beer_predicted_train_Y = beer_clf.predict(beer_train_X)\n",
        "beer_predicted_test_Y = beer_clf.predict(beer_test_X)"
      ]
    },
    {
      "cell_type": "markdown",
      "metadata": {
        "deletable": false,
        "editable": false,
        "nbgrader": {
          "cell_type": "markdown",
          "checksum": "d3fe08ec00069f19077259c125222d2a",
          "grade": false,
          "grade_id": "cell-597175267bdb0dd1",
          "locked": true,
          "schema_version": 3,
          "solution": false
        },
        "id": "flAUT03wjV7R"
      },
      "source": [
        "## Model Assessment"
      ]
    },
    {
      "cell_type": "markdown",
      "metadata": {
        "deletable": false,
        "editable": false,
        "nbgrader": {
          "cell_type": "markdown",
          "checksum": "8dc019a9720c83808a9cc8a4e7a02022",
          "grade": false,
          "grade_id": "cell-067170c37cfeea01",
          "locked": true,
          "schema_version": 3,
          "solution": false
        },
        "id": "5eFSoQEbjV7S"
      },
      "source": [
        "Now we're going to determine how our predictor did. To do this we'll generate a `classification_report` for the predictions generated from oour training data relative to the truth (from the original beers dataset)."
      ]
    },
    {
      "cell_type": "code",
      "execution_count": 22,
      "metadata": {
        "deletable": false,
        "nbgrader": {
          "cell_type": "code",
          "checksum": "9472a543f7213bbccdf68c96faa2c8d9",
          "grade": false,
          "grade_id": "cell-5cc9c9d3cca4e6ce",
          "locked": false,
          "schema_version": 3,
          "solution": true
        },
        "colab": {
          "base_uri": "https://localhost:8080/"
        },
        "id": "xrnZ6DrqjV7T",
        "outputId": "3d93e910-8d4b-4aee-8ca9-bc53ca2ce4ec"
      },
      "outputs": [
        {
          "output_type": "stream",
          "name": "stdout",
          "text": [
            "                                precision    recall  f1-score   support\n",
            "\n",
            "      American Amber / Red Ale       0.82      0.45      0.58        69\n",
            "American Double / Imperial IPA       0.76      0.25      0.37        53\n",
            "                  American IPA       0.69      0.84      0.76       236\n",
            "       American Pale Ale (APA)       0.57      0.64      0.60       126\n",
            "\n",
            "                      accuracy                           0.67       484\n",
            "                     macro avg       0.71      0.54      0.58       484\n",
            "                  weighted avg       0.69      0.67      0.65       484\n",
            "\n"
          ]
        }
      ],
      "source": [
        "print(classification_report(beer_train_Y, beer_predicted_train_Y))"
      ]
    },
    {
      "cell_type": "markdown",
      "metadata": {
        "deletable": false,
        "editable": false,
        "nbgrader": {
          "cell_type": "markdown",
          "checksum": "7269f700685fb056f592ea097bd29e47",
          "grade": false,
          "grade_id": "cell-6681443e553ac9ac",
          "locked": true,
          "schema_version": 3,
          "solution": false
        },
        "id": "nFS8-xqrjV7T"
      },
      "source": [
        "Now we'll generate a `classification_report` for the predictions generated for our test data relative to the truth (from the original beers dataset)."
      ]
    },
    {
      "cell_type": "code",
      "execution_count": 23,
      "metadata": {
        "deletable": false,
        "nbgrader": {
          "cell_type": "code",
          "checksum": "5918880c7703b719b829156dcdee911e",
          "grade": false,
          "grade_id": "cell-82e29dc9780e9d89",
          "locked": false,
          "schema_version": 3,
          "solution": true
        },
        "colab": {
          "base_uri": "https://localhost:8080/"
        },
        "id": "SkgEJxQvjV7U",
        "outputId": "bfbee154-4c48-4e83-dddc-f41fb1f264f8"
      },
      "outputs": [
        {
          "output_type": "stream",
          "name": "stdout",
          "text": [
            "                                precision    recall  f1-score   support\n",
            "\n",
            "      American Amber / Red Ale       0.62      0.62      0.62         8\n",
            "American Double / Imperial IPA       0.78      0.32      0.45        22\n",
            "                  American IPA       0.70      0.72      0.71        65\n",
            "       American Pale Ale (APA)       0.55      0.78      0.65        27\n",
            "\n",
            "                      accuracy                           0.66       122\n",
            "                     macro avg       0.66      0.61      0.61       122\n",
            "                  weighted avg       0.68      0.66      0.64       122\n",
            "\n"
          ]
        }
      ],
      "source": [
        "print(classification_report(beer_test_Y, beer_predicted_test_Y))"
      ]
    },
    {
      "cell_type": "markdown",
      "metadata": {
        "deletable": false,
        "editable": false,
        "nbgrader": {
          "cell_type": "markdown",
          "checksum": "1bd005d369944dc6f796fc5f4b4dab3f",
          "grade": false,
          "grade_id": "cell-f095533f7c6debfa",
          "locked": true,
          "schema_version": 3,
          "solution": false
        },
        "id": "AHSX2vOIjV7V"
      },
      "source": [
        "How is our model performing? Does this dffer between training and test data? Where does it have trouble? Where does it perform well? Do we have thoughts as to why? One way to determine where a model is going wrong is to look at a confusion matrix. What we'll do now is generate a confusion matrix for the training data predictions as well as the ground truth from the `beer_df` dataset."
      ]
    },
    {
      "cell_type": "code",
      "execution_count": 28,
      "metadata": {
        "deletable": false,
        "nbgrader": {
          "cell_type": "code",
          "checksum": "7ec1615c106f1e2b7f259459afb21a20",
          "grade": false,
          "grade_id": "cell-f0a1f8d304bd71ae",
          "locked": false,
          "schema_version": 3,
          "solution": true
        },
        "colab": {
          "base_uri": "https://localhost:8080/"
        },
        "id": "fku7mUHjjV7V",
        "outputId": "aed23e02-3fc1-4965-bcf8-057d6224fde7"
      },
      "outputs": [
        {
          "output_type": "execute_result",
          "data": {
            "text/plain": [
              "array([[ 31,   1,  10,  27],\n",
              "       [  0,  13,  40,   0],\n",
              "       [  0,   3, 198,  35],\n",
              "       [  7,   0,  38,  81]])"
            ]
          },
          "metadata": {},
          "execution_count": 28
        }
      ],
      "source": [
        "conf_train = confusion_matrix(beer_train_Y, beer_predicted_train_Y)\n",
        "conf_train"
      ]
    },
    {
      "cell_type": "code",
      "execution_count": 29,
      "metadata": {
        "deletable": false,
        "nbgrader": {
          "cell_type": "code",
          "checksum": "e008e11ffe7e2418f8cda2ffb4a0f383",
          "grade": false,
          "grade_id": "cell-dcfae2fde6f81ba9",
          "locked": false,
          "schema_version": 3,
          "solution": true
        },
        "colab": {
          "base_uri": "https://localhost:8080/"
        },
        "id": "hee0g7ROjV7X",
        "outputId": "8c272246-cba7-43ca-e1af-f06ad1e2b8b1"
      },
      "outputs": [
        {
          "output_type": "execute_result",
          "data": {
            "text/plain": [
              "array([[ 5,  0,  2,  1],\n",
              "       [ 1,  7, 14,  0],\n",
              "       [ 0,  2, 47, 16],\n",
              "       [ 2,  0,  4, 21]])"
            ]
          },
          "metadata": {},
          "execution_count": 29
        }
      ],
      "source": [
        "conf_test = confusion_matrix(beer_test_Y, beer_predicted_test_Y)\n",
        "conf_test"
      ]
    },
    {
      "cell_type": "code",
      "source": [
        "plt.imshow(conf_train, cmap='binary', interpolation='None')\n",
        "plt.show()"
      ],
      "metadata": {
        "colab": {
          "base_uri": "https://localhost:8080/",
          "height": 269
        },
        "id": "7Eypb9T9QP_h",
        "outputId": "0caba238-bff2-40cb-c2f7-4adc20d18a41"
      },
      "execution_count": 26,
      "outputs": [
        {
          "output_type": "display_data",
          "data": {
            "image/png": "[encoded data removed]",
            "text/plain": [
              "<Figure size 432x288 with 1 Axes>"
            ]
          },
          "metadata": {
            "needs_background": "light"
          }
        }
      ]
    },
    {
      "cell_type": "code",
      "source": [
        "plt.imshow(conf_test, cmap='binary', interpolation='None')\n",
        "plt.show()"
      ],
      "metadata": {
        "colab": {
          "base_uri": "https://localhost:8080/",
          "height": 269
        },
        "id": "PW5QvHV1QQdP",
        "outputId": "1c968d6f-87b3-4046-b523-f04b0855d50e"
      },
      "execution_count": 27,
      "outputs": [
        {
          "output_type": "display_data",
          "data": {
            "image/png": "[encoded data removed]",
            "text/plain": [
              "<Figure size 432x288 with 1 Axes>"
            ]
          },
          "metadata": {
            "needs_background": "light"
          }
        }
      ]
    },
    {
      "cell_type": "markdown",
      "metadata": {
        "deletable": false,
        "editable": false,
        "nbgrader": {
          "cell_type": "markdown",
          "checksum": "749df6ba0235aa851725e71c3ea39717",
          "grade": false,
          "grade_id": "cell-5a8ce05a47852654",
          "locked": true,
          "schema_version": 3,
          "solution": false
        },
        "id": "xCPvxOjOjV7Y"
      },
      "source": [
        "We can see that our model didn't do too bad. As we can see there is a decent volume of correct predictions(values along the diagnol represent correct predictions). A better prediction model might be to use a decision tree since our data is slightly categorical(depending on how you view it). Overall, the model is pretty good for what was provided in the sample data."
      ]
    }
  ],
  "metadata": {
    "kernelspec": {
      "display_name": "Python 3 (ipykernel)",
      "language": "python",
      "name": "python3"
    },
    "language_info": {
      "codemirror_mode": {
        "name": "ipython",
        "version": 3
      },
      "file_extension": ".py",
      "mimetype": "text/x-python",
      "name": "python",
      "nbconvert_exporter": "python",
      "pygments_lexer": "ipython3",
      "version": "3.9.5"
    },
    "colab": {
      "name": "D8_ml.ipynb",
      "provenance": []
    }
  },
  "nbformat": 4,
  "nbformat_minor": 0
}